{
 "cells": [
  {
   "cell_type": "markdown",
   "metadata": {},
   "source": [
    "Import python modules"
   ]
  },
  {
   "cell_type": "code",
   "execution_count": 1,
   "metadata": {},
   "outputs": [],
   "source": [
    "import numpy as np\n",
    "import pandas as pd\n",
    "\n",
    "from os import walk\n",
    "from os.path import join"
   ]
  },
  {
   "cell_type": "markdown",
   "metadata": {},
   "source": [
    "Read files in the results folder"
   ]
  },
  {
   "cell_type": "code",
   "execution_count": 2,
   "metadata": {},
   "outputs": [],
   "source": [
    "FOLDER_PATH = './results_SAM_valence/'"
   ]
  },
  {
   "cell_type": "code",
   "execution_count": 3,
   "metadata": {},
   "outputs": [
    {
     "data": {
      "text/plain": [
       "['C5.0.txt',\n",
       " 'J48.txt',\n",
       " 'JRip.txt',\n",
       " 'knn.txt',\n",
       " 'mlp.txt',\n",
       " 'rf.txt',\n",
       " 'svmLinear.txt']"
      ]
     },
     "execution_count": 3,
     "metadata": {},
     "output_type": "execute_result"
    }
   ],
   "source": [
    "files = []\n",
    "for (dirpath, dirnames, filenames) in walk(FOLDER_PATH):\n",
    "    files.extend(filenames)\n",
    "    break\n",
    "files"
   ]
  },
  {
   "cell_type": "code",
   "execution_count": 4,
   "metadata": {
    "scrolled": false
   },
   "outputs": [
    {
     "name": "stdout",
     "output_type": "stream",
     "text": [
      "FILE:  C5.0.txt\n",
      "\n",
      "FILE:  J48.txt\n",
      "\n",
      "FILE:  JRip.txt\n",
      "\n",
      "FILE:  knn.txt\n",
      "\n",
      "FILE:  mlp.txt\n",
      "\n",
      "FILE:  rf.txt\n",
      "\n",
      "FILE:  svmLinear.txt\n",
      "\n"
     ]
    }
   ],
   "source": [
    "col_names = ['algorithm', 'macroPrecision', 'macroRecall', 'macroF1', 'accuracy']\n",
    "\n",
    "summary = pd.DataFrame(columns=col_names)\n",
    "\n",
    "csv_export_df = pd.DataFrame(columns=col_names)\n",
    "\n",
    "for file in files:\n",
    "    print('FILE: ', file, end='\\n\\n')\n",
    "    \n",
    "    file_df = pd.DataFrame(columns=col_names)\n",
    "    \n",
    "    mylines = []                                \n",
    "    with open(join(FOLDER_PATH, file), 'rt') as myfile:\n",
    "        for myline in myfile: \n",
    "            mylines.append(myline.rstrip('\\n'))\n",
    "    \n",
    "    counter = 0\n",
    "    for ind, line in enumerate(mylines):\n",
    "        if line.find(\"Metrics macro:\") != -1:\n",
    "            counter = counter + 1\n",
    "            #print('Metrics '+ file + ' run ' + str(counter) + ':')\n",
    "            \n",
    "            raw_row_list = mylines[ind+3]\n",
    "            row_list = [float(elem) for elem in raw_row_list.split( )[1:]]\n",
    "            row_list = [file.rstrip('.txt')] + row_list\n",
    "            row = dict(zip(col_names, row_list))\n",
    "            \n",
    "            file_df = file_df.append(row, ignore_index=True)\n",
    "            \n",
    "            #print(row)\n",
    "    \n",
    "    mean_row = file_df.mean()\n",
    "    std_row = file_df.std()\n",
    "    mean_row['algorithm'] = 'MEAN'\n",
    "    std_row['algorithm'] = 'STD'\n",
    "    file_df = file_df.append(mean_row, ignore_index=True)\n",
    "    #file_df = file_df.append(std_row, ignore_index=True)\n",
    "    \n",
    "    # Prepare df for csv export\n",
    "    csv_export_df = pd.concat([csv_export_df, file_df], ignore_index=True)\n",
    "    \n",
    "    \n",
    "    # The df with mean measures for each algorithm\n",
    "    summary_row = {\n",
    "        'algorithm': file.rstrip('.txt'),\n",
    "        'macroPrecision': mean_row['macroPrecision'],\n",
    "        'macroRecall': mean_row['macroRecall'],\n",
    "        'macroF1': mean_row['macroF1'],\n",
    "        'accuracy': mean_row['accuracy']\n",
    "    }\n",
    "    summary = summary.append(summary_row, ignore_index=True)\n",
    "    \n",
    "\n",
    "    #print(file_df, end='\\n\\n')\n",
    "            \n",
    "            "
   ]
  },
  {
   "cell_type": "code",
   "execution_count": 5,
   "metadata": {
    "scrolled": true
   },
   "outputs": [
    {
     "name": "stdout",
     "output_type": "stream",
     "text": [
      "\\begin{tabular}{llrrrr}\n",
      "\\toprule\n",
      "{} &  algorithm &  macroPrecision &  macroRecall &   macroF1 &  accuracy \\\\\n",
      "\\midrule\n",
      "\\textbf{0} &       C5.0 &        0.649675 &     0.588889 &  0.676374 &  0.700000 \\\\\n",
      "\\textbf{1} &        J48 &        0.618729 &     0.581944 &  0.636142 &  0.700000 \\\\\n",
      "\\textbf{2} &       JRip &        0.602222 &     0.570833 &  0.604654 &  0.684615 \\\\\n",
      "\\textbf{3} &        knn &        0.655076 &     0.569444 &  0.590560 &  0.692308 \\\\\n",
      "\\textbf{4} &        mlp &        0.585732 &     0.568056 &  0.589271 &  0.661538 \\\\\n",
      "\\textbf{5} &         rf &        0.634205 &     0.587500 &  0.660811 &  0.707692 \\\\\n",
      "\\textbf{6} &  svmLinear &             NaN &     0.500000 &       NaN &  0.692308 \\\\\n",
      "\\bottomrule\n",
      "\\end{tabular}\n",
      "\n"
     ]
    }
   ],
   "source": [
    "#summary.set_index('algorithm', inplace=True)\n",
    "#summary\n",
    "print(summary.to_latex(bold_rows=True, escape=True))\n",
    "csv_export_df.to_csv('C:/Users/danie/Dropbox (Universita degli Studi di Bari)/DottoratoGirardi/FieldStudy/Analysis/1.Baseline/results_SAM_valence_E4/parsed_results.csv', index=False)"
   ]
  },
  {
   "cell_type": "raw",
   "metadata": {},
   "source": [
    "\n"
   ]
  },
  {
   "cell_type": "raw",
   "metadata": {},
   "source": []
  },
  {
   "cell_type": "code",
   "execution_count": null,
   "metadata": {},
   "outputs": [],
   "source": []
  }
 ],
 "metadata": {
  "kernelspec": {
   "display_name": "Python 3",
   "language": "python",
   "name": "python3"
  },
  "language_info": {
   "codemirror_mode": {
    "name": "ipython",
    "version": 3
   },
   "file_extension": ".py",
   "mimetype": "text/x-python",
   "name": "python",
   "nbconvert_exporter": "python",
   "pygments_lexer": "ipython3",
   "version": "3.7.3"
  }
 },
 "nbformat": 4,
 "nbformat_minor": 2
}
