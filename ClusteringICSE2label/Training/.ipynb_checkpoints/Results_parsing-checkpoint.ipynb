{
 "cells": [
  {
   "cell_type": "markdown",
   "metadata": {},
   "source": [
    "Import python modules"
   ]
  },
  {
   "cell_type": "code",
   "execution_count": 101,
   "metadata": {},
   "outputs": [],
   "source": [
    "import numpy as np\n",
    "import pandas as pd\n",
    "\n",
    "from os import walk\n",
    "from os.path import join"
   ]
  },
  {
   "cell_type": "markdown",
   "metadata": {},
   "source": [
    "Read files in the results folder"
   ]
  },
  {
   "cell_type": "code",
   "execution_count": 102,
   "metadata": {},
   "outputs": [],
   "source": [
    "FOLDER_PATH = 'C:/Users/Utente/Desktop/ClusteringICSE2label/Training/results_SAM_arousal/Run22'"
   ]
  },
  {
   "cell_type": "code",
   "execution_count": 103,
   "metadata": {},
   "outputs": [
    {
     "data": {
      "text/plain": [
       "['C5.0.txt',\n",
       " 'J48.txt',\n",
       " 'JRip.txt',\n",
       " 'knn.txt',\n",
       " 'mlp.txt',\n",
       " 'nb.txt',\n",
       " 'rf.txt',\n",
       " 'svmLinear.txt']"
      ]
     },
     "execution_count": 103,
     "metadata": {},
     "output_type": "execute_result"
    }
   ],
   "source": [
    "files = []\n",
    "for (dirpath, dirnames, filenames) in walk(FOLDER_PATH):\n",
    "    files.extend(filenames)\n",
    "    break\n",
    "files"
   ]
  },
  {
   "cell_type": "code",
   "execution_count": 104,
   "metadata": {},
   "outputs": [
    {
     "name": "stdout",
     "output_type": "stream",
     "text": [
      "FILE:  C5.0.txt\n",
      "\n",
      "  algorithm  macroPrecision  macroRecall  macroF1  accuracy\n",
      "0      C5.0        0.333333         0.49      NaN       0.7\n",
      "FILE:  J48.txt\n",
      "\n",
      "  algorithm  macroPrecision  macroRecall   macroF1  accuracy\n",
      "0      C5.0        0.333333         0.49       NaN  0.700000\n",
      "1       J48        0.431667         0.48  0.591667  0.642857\n",
      "FILE:  JRip.txt\n",
      "\n",
      "  algorithm  macroPrecision  macroRecall   macroF1  accuracy\n",
      "0      C5.0        0.333333         0.49       NaN  0.700000\n",
      "1       J48        0.431667         0.48  0.591667  0.642857\n",
      "2      JRip        0.552778         0.54  0.653535  0.642857\n",
      "FILE:  knn.txt\n",
      "\n",
      "  algorithm  macroPrecision  macroRecall   macroF1  accuracy\n",
      "0      C5.0        0.333333         0.49       NaN  0.700000\n",
      "1       J48        0.431667         0.48  0.591667  0.642857\n",
      "2      JRip        0.552778         0.54  0.653535  0.642857\n",
      "3       knn        0.785185         0.72  0.737009  0.771429\n",
      "FILE:  mlp.txt\n",
      "\n",
      "  algorithm  macroPrecision  macroRecall   macroF1  accuracy\n",
      "0      C5.0        0.333333         0.49       NaN  0.700000\n",
      "1       J48        0.431667         0.48  0.591667  0.642857\n",
      "2      JRip        0.552778         0.54  0.653535  0.642857\n",
      "3       knn        0.785185         0.72  0.737009  0.771429\n",
      "4       mlp        0.575926         0.59  0.644444  0.671429\n",
      "FILE:  nb.txt\n",
      "\n",
      "  algorithm  macroPrecision  macroRecall   macroF1  accuracy\n",
      "0      C5.0        0.333333        0.490       NaN  0.700000\n",
      "1       J48        0.431667        0.480  0.591667  0.642857\n",
      "2      JRip        0.552778        0.540  0.653535  0.642857\n",
      "3       knn        0.785185        0.720  0.737009  0.771429\n",
      "4       mlp        0.575926        0.590  0.644444  0.671429\n",
      "5        nb        0.525000        0.545  0.640145  0.585714\n",
      "FILE:  rf.txt\n",
      "\n",
      "  algorithm  macroPrecision  macroRecall   macroF1  accuracy\n",
      "0      C5.0        0.333333        0.490       NaN  0.700000\n",
      "1       J48        0.431667        0.480  0.591667  0.642857\n",
      "2      JRip        0.552778        0.540  0.653535  0.642857\n",
      "3       knn        0.785185        0.720  0.737009  0.771429\n",
      "4       mlp        0.575926        0.590  0.644444  0.671429\n",
      "5        nb        0.525000        0.545  0.640145  0.585714\n",
      "6        rf        0.532407        0.550  0.630556  0.657143\n",
      "FILE:  svmLinear.txt\n",
      "\n",
      "   algorithm  macroPrecision  macroRecall   macroF1  accuracy\n",
      "0       C5.0        0.333333        0.490       NaN  0.700000\n",
      "1        J48        0.431667        0.480  0.591667  0.642857\n",
      "2       JRip        0.552778        0.540  0.653535  0.642857\n",
      "3        knn        0.785185        0.720  0.737009  0.771429\n",
      "4        mlp        0.575926        0.590  0.644444  0.671429\n",
      "5         nb        0.525000        0.545  0.640145  0.585714\n",
      "6         rf        0.532407        0.550  0.630556  0.657143\n",
      "7  svmLinear        0.916667        0.525  0.787879  0.728571\n"
     ]
    }
   ],
   "source": [
    "col_names = ['algorithm', 'macroPrecision', 'macroRecall', 'macroF1', 'accuracy']\n",
    " \n",
    "summary = pd.DataFrame(columns=col_names)\n",
    " \n",
    "csv_export_df = pd.DataFrame(columns=col_names)\n",
    " \n",
    "for file in files:\n",
    "    print('FILE: ', file, end='\\n\\n')\n",
    "   \n",
    "    file_df = pd.DataFrame(columns=col_names)\n",
    "   \n",
    "    mylines = []                                \n",
    "    with open(join(FOLDER_PATH, file), 'rt') as myfile:\n",
    "        for myline in myfile:\n",
    "            mylines.append(myline.rstrip('\\n'))\n",
    "   \n",
    "    counter = 0\n",
    "    for ind, line in enumerate(mylines):\n",
    "        if line.find(\"Metrics macro:\") != -1:\n",
    "            counter = counter + 1\n",
    "           \n",
    "            raw_row_list = mylines[ind+3]\n",
    "            row_list = [float(elem) for elem in raw_row_list.split()[1:]]\n",
    "            row_list = [file.rstrip('.txt')] + row_list\n",
    "            row = dict(zip(col_names, row_list))\n",
    "           \n",
    "            file_df = pd.concat([file_df, pd.DataFrame([row])], ignore_index=True)\n",
    "             #print(file_df)\n",
    "   \n",
    "    numeric_cols = file_df.columns.difference(['algorithm'])\n",
    "    mean_row = file_df[numeric_cols].mean()\n",
    "    std_row = file_df[numeric_cols].std()\n",
    "    mean_row['algorithm'] = 'MEAN'\n",
    "    std_row['algorithm'] = 'STD'\n",
    "    file_df = pd.concat([file_df, pd.DataFrame([mean_row])], ignore_index=True)\n",
    "   \n",
    "    # Prepare df for csv export\n",
    "    csv_export_df = pd.concat([csv_export_df, file_df], ignore_index=True)\n",
    "   \n",
    "    # The df with mean measures for each algorithm\n",
    "    summary_row = {\n",
    "        'algorithm': file.rstrip('.txt'),\n",
    "        'macroPrecision': mean_row['macroPrecision'],\n",
    "        'macroRecall': mean_row['macroRecall'],\n",
    "        'macroF1': mean_row['macroF1'],\n",
    "        'accuracy': mean_row['accuracy']\n",
    "    }\n",
    "    summary = pd.concat([summary, pd.DataFrame([summary_row])], ignore_index=True)\n",
    " \n",
    "    print(summary)\n",
    " \n",
    "           \n",
    "            "
   ]
  },
  {
   "cell_type": "code",
   "execution_count": 105,
   "metadata": {
    "scrolled": true
   },
   "outputs": [],
   "source": [
    "#summary.set_index('algorithm', inplace=True)\n",
    "#summary\n",
    "#print(summary.to_latex(bold_rows=True, escape=True))\n",
    "csv_export_df.to_csv('C:/Users/Utente/Desktop/ClusteringICSE2label/Training/results_SAM_arousal/Run22/parsed_valence.csv', index=False)"
   ]
  },
  {
   "cell_type": "code",
   "execution_count": null,
   "metadata": {},
   "outputs": [],
   "source": []
  },
  {
   "cell_type": "code",
   "execution_count": null,
   "metadata": {},
   "outputs": [],
   "source": []
  }
 ],
 "metadata": {
  "kernelspec": {
   "display_name": "Python 3 (ipykernel)",
   "language": "python",
   "name": "python3"
  },
  "language_info": {
   "codemirror_mode": {
    "name": "ipython",
    "version": 3
   },
   "file_extension": ".py",
   "mimetype": "text/x-python",
   "name": "python",
   "nbconvert_exporter": "python",
   "pygments_lexer": "ipython3",
   "version": "3.11.5"
  }
 },
 "nbformat": 4,
 "nbformat_minor": 4
}
