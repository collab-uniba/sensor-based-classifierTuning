{
 "cells": [
  {
   "cell_type": "markdown",
   "metadata": {},
   "source": [
    "Import python modules"
   ]
  },
  {
   "cell_type": "code",
   "execution_count": 1,
   "metadata": {},
   "outputs": [],
   "source": [
    "import numpy as np\n",
    "import pandas as pd\n",
    "\n",
    "from os import walk\n",
    "from os.path import join"
   ]
  },
  {
   "cell_type": "markdown",
   "metadata": {},
   "source": [
    "Read files in the results folder"
   ]
  },
  {
   "cell_type": "code",
   "execution_count": 112,
   "metadata": {},
   "outputs": [],
   "source": [
    "FOLDER_PATH = 'C:/Users/Utente/Desktop/ClusteringICSE2label/Training/results_SAM_valence/Run22'"
   ]
  },
  {
   "cell_type": "code",
   "execution_count": 113,
   "metadata": {},
   "outputs": [
    {
     "data": {
      "text/plain": [
       "['C5.0.txt',\n",
       " 'J48.txt',\n",
       " 'JRip.txt',\n",
       " 'knn.txt',\n",
       " 'mlp.txt',\n",
       " 'nb.txt',\n",
       " 'rf.txt',\n",
       " 'svmLinear.txt']"
      ]
     },
     "execution_count": 113,
     "metadata": {},
     "output_type": "execute_result"
    }
   ],
   "source": [
    "files = []\n",
    "for (dirpath, dirnames, filenames) in walk(FOLDER_PATH):\n",
    "    files.extend(filenames)\n",
    "    break\n",
    "files"
   ]
  },
  {
   "cell_type": "code",
   "execution_count": 114,
   "metadata": {},
   "outputs": [
    {
     "name": "stdout",
     "output_type": "stream",
     "text": [
      "FILE:  C5.0.txt\n",
      "\n",
      "  method  TrainAccuracy\n",
      "0   C5.0       0.730769\n",
      "FILE:  J48.txt\n",
      "\n",
      "  method  TrainAccuracy\n",
      "0   C5.0       0.730769\n",
      "1    J48       0.666667\n",
      "FILE:  JRip.txt\n",
      "\n",
      "  method  TrainAccuracy\n",
      "0   C5.0       0.730769\n",
      "1    J48       0.666667\n",
      "2   JRip       0.705128\n",
      "FILE:  knn.txt\n",
      "\n",
      "  method  TrainAccuracy\n",
      "0   C5.0       0.730769\n",
      "1    J48       0.666667\n",
      "2   JRip       0.705128\n",
      "3    knn       0.730769\n",
      "FILE:  mlp.txt\n",
      "\n",
      "  method  TrainAccuracy\n",
      "0   C5.0       0.730769\n",
      "1    J48       0.666667\n",
      "2   JRip       0.705128\n",
      "3    knn       0.730769\n",
      "4    mlp       0.747436\n",
      "FILE:  nb.txt\n",
      "\n",
      "  method  TrainAccuracy\n",
      "0   C5.0       0.730769\n",
      "1    J48       0.666667\n",
      "2   JRip       0.705128\n",
      "3    knn       0.730769\n",
      "4    mlp       0.747436\n",
      "5     nb       0.666667\n",
      "FILE:  rf.txt\n",
      "\n",
      "  method  TrainAccuracy\n",
      "0   C5.0       0.730769\n",
      "1    J48       0.666667\n",
      "2   JRip       0.705128\n",
      "3    knn       0.730769\n",
      "4    mlp       0.747436\n",
      "5     nb       0.666667\n",
      "6     rf       0.726923\n",
      "FILE:  svmLinear.txt\n",
      "\n",
      "      method  TrainAccuracy\n",
      "0       C5.0       0.730769\n",
      "1        J48       0.666667\n",
      "2       JRip       0.705128\n",
      "3        knn       0.730769\n",
      "4        mlp       0.747436\n",
      "5         nb       0.666667\n",
      "6         rf       0.726923\n",
      "7  svmLinear       0.651282\n"
     ]
    }
   ],
   "source": [
    "col_names = ['method', 'TrainAccuracy']\n",
    " \n",
    "summary = pd.DataFrame(columns=col_names)\n",
    " \n",
    "csv_export_df = pd.DataFrame(columns=col_names)\n",
    " \n",
    "for file in files:\n",
    "    print('FILE: ', file, end='\\n\\n')\n",
    "   \n",
    "    file_df = pd.DataFrame(columns=col_names)\n",
    "   \n",
    "    mylines = []                                \n",
    "    with open(join(FOLDER_PATH, file), 'rt') as myfile:\n",
    "        for myline in myfile:\n",
    "            mylines.append(myline.rstrip('\\n'))\n",
    "   \n",
    "    counter = 0\n",
    "    for ind, line in enumerate(mylines):\n",
    "        if line.find(\"Highest ROC value:\") != -1:\n",
    "            counter = counter + 1\n",
    "           \n",
    "            raw_row_list = mylines[ind+2]\n",
    "           # Separiamo gli elementi della riga\n",
    "            elements = raw_row_list.split()\n",
    "\n",
    "           # Convertiamo i dati tranne l'ultimo elemento in float\n",
    "           # e aggiungiamo l'ultimo elemento come stringa\n",
    "            row_list = [float(elem) if elem.replace('.', '', 1).isdigit() else elem for elem in elements[1:]]\n",
    "\n",
    "            # Aggiungiamo il nome del file come prima colonna\n",
    "            row_list = [file.rstrip('.txt')] + row_list\n",
    "\n",
    "            # Creiamo il dizionario per la riga del DataFrame\n",
    "            row = dict(zip(col_names, row_list))\n",
    "\n",
    "            # Aggiungiamo la riga al DataFrame\n",
    "            file_df = pd.concat([file_df, pd.DataFrame([row])], ignore_index=True)\n",
    "   \n",
    "    #numeric_cols = file_df.columns.difference(['method'])\n",
    "    numeric_cols = file_df.select_dtypes(include='number').columns\n",
    "    mean_row = file_df[numeric_cols].mean()\n",
    "    std_row = file_df[numeric_cols].std()\n",
    "    mean_row['method'] = 'MEAN'\n",
    "    std_row['method'] = 'STD'\n",
    "    file_df = pd.concat([file_df, pd.DataFrame([mean_row])], ignore_index=True)\n",
    "   \n",
    "    # Prepare df for csv export\n",
    "    csv_export_df = pd.concat([csv_export_df, file_df], ignore_index=True)\n",
    "   \n",
    "    # The df with mean measures for each algorithm\n",
    "    summary_row = {\n",
    "        'method': file.rstrip('.txt'),\n",
    "        'TrainAccuracy': mean_row['TrainAccuracy'],\n",
    "        #'TrainKappa': mean_row['TrainKappa'],\n",
    "       # 'macroF1': mean_row['macroF1'],\n",
    "       # 'accuracy': mean_row['accuracy']\n",
    "    }\n",
    "    summary = pd.concat([summary, pd.DataFrame([summary_row])], ignore_index=True)\n",
    " \n",
    "    print(summary)\n",
    " \n",
    "           \n",
    "            "
   ]
  },
  {
   "cell_type": "code",
   "execution_count": 115,
   "metadata": {
    "scrolled": true
   },
   "outputs": [],
   "source": [
    "#summary.set_index('algorithm', inplace=True)\n",
    "#summary\n",
    "#print(summary.to_latex(bold_rows=True, escape=True))\n",
    "csv_export_df.to_csv('C:/Users/Utente/Desktop/ClusteringICSE2label/Training/results_SAM_valence/Run22/parsed_valence.csv', index=False)"
   ]
  },
  {
   "cell_type": "code",
   "execution_count": null,
   "metadata": {},
   "outputs": [],
   "source": []
  },
  {
   "cell_type": "code",
   "execution_count": null,
   "metadata": {},
   "outputs": [],
   "source": []
  }
 ],
 "metadata": {
  "kernelspec": {
   "display_name": "Python 3 (ipykernel)",
   "language": "python",
   "name": "python3"
  },
  "language_info": {
   "codemirror_mode": {
    "name": "ipython",
    "version": 3
   },
   "file_extension": ".py",
   "mimetype": "text/x-python",
   "name": "python",
   "nbconvert_exporter": "python",
   "pygments_lexer": "ipython3",
   "version": "3.11.5"
  }
 },
 "nbformat": 4,
 "nbformat_minor": 4
}
